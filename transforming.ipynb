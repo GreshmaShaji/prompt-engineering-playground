{
 "cells": [
  {
   "cell_type": "markdown",
   "id": "0a9dd5ed",
   "metadata": {},
   "source": [
    "# Advanced Language Transformation with LLMs\n",
    "This notebook explores advanced language transformation tasks such as translation, tone shifting, format-aware rewriting, and persona-based localization using OpenAI's GPT models."
   ]
  },
  {
   "cell_type": "markdown",
   "id": "250c3d02",
   "metadata": {},
   "source": [
    "## 1. Setup and Imports"
   ]
  },
  {
   "cell_type": "code",
   "execution_count": null,
   "id": "228f5547",
   "metadata": {},
   "outputs": [],
   "source": [
    "from openai import OpenAI\n",
    "\n",
    "import os "
   ]
  },
  {
   "cell_type": "code",
   "execution_count": 2,
   "id": "81b43a69",
   "metadata": {},
   "outputs": [],
   "source": [
    "client = OpenAI(\n",
    "    api_key = os.getenv(\"OPENAI_API_KEY\"),\n",
    "   \n",
    ")"
   ]
  },
  {
   "cell_type": "code",
   "execution_count": 3,
   "id": "16ef77f4",
   "metadata": {},
   "outputs": [],
   "source": [
    "def get_completion(prompt, model=\"gpt-3.5-turbo\"):\n",
    "    messages = [{\"role\": \"user\", \"content\": prompt}]\n",
    "    response = client.chat.completions.create(\n",
    "        model=model,\n",
    "        messages=messages,\n",
    "        temperature=0\n",
    "    )\n",
    "    return response.choices[0].message.content"
   ]
  },
  {
   "cell_type": "markdown",
   "id": "88f5dbd7",
   "metadata": {},
   "source": [
    "## 2. Multi-step: Detect Language → Translate → Summarize\n",
    "We'll detect the input language, translate it to English, and then summarize the content."
   ]
  },
  {
   "cell_type": "code",
   "execution_count": 4,
   "id": "e4dc5706",
   "metadata": {},
   "outputs": [
    {
     "name": "stdout",
     "output_type": "stream",
     "text": [
      "Step 1: Spanish\n",
      "Step 2: Artificial intelligence is transforming the world.\n",
      "Step 3: Artificial intelligence is changing the world.\n"
     ]
    }
   ],
   "source": [
    "foreign_text = \"La inteligencia artificial está transformando el mundo.\"\n",
    "\n",
    "prompt = f\"\"\"\n",
    "Step 1: Identify the language of the text below.\n",
    "Step 2: Translate it into English.\n",
    "Step 3: Provide a one-line summary in English.\n",
    "\n",
    "Text: {foreign_text}\n",
    "\"\"\"\n",
    "\n",
    "response = get_completion(prompt)\n",
    "print(response)"
   ]
  },
  {
   "cell_type": "markdown",
   "id": "936ecf02",
   "metadata": {},
   "source": [
    "## 3. Translate with Tone and Formality Instructions\n",
    "This prompt guides the model to translate with a specific **tone and formality level**."
   ]
  },
  {
   "cell_type": "code",
   "execution_count": 5,
   "id": "70c8129c",
   "metadata": {},
   "outputs": [
    {
     "name": "stdout",
     "output_type": "stream",
     "text": [
      "Bonjour, pourriez-vous m'envoyer le rapport s'il vous plaît ? Je suis en attente.\n"
     ]
    }
   ],
   "source": [
    "text = \"Hey, can you send me the report? I'm waiting.\"\n",
    "\n",
    "prompt = f\"\"\"\n",
    "Translate the text below into **formal French** suitable for workplace communication.\n",
    "\n",
    "Text: {text}\n",
    "\"\"\"\n",
    "\n",
    "response = get_completion(prompt)\n",
    "print(response)"
   ]
  },
  {
   "cell_type": "markdown",
   "id": "2890f3d2",
   "metadata": {},
   "source": [
    "## 4. Format-Aware Translation (HTML)\n",
    "Translate a piece of HTML content, preserving structure while localizing the text."
   ]
  },
  {
   "cell_type": "code",
   "execution_count": 6,
   "id": "ad6a36a4",
   "metadata": {},
   "outputs": [
    {
     "name": "stdout",
     "output_type": "stream",
     "text": [
      "<h1>Willkommen</h1><p>Vielen Dank, dass Sie unsere Plattform nutzen!</p>\n"
     ]
    }
   ],
   "source": [
    "html_text = \"<h1>Welcome</h1><p>Thank you for using our platform!</p>\"\n",
    "\n",
    "prompt = f\"\"\"\n",
    "Translate the following HTML content to German. Keep all HTML tags intact.\n",
    "\n",
    "Content: {html_text}\n",
    "\"\"\"\n",
    "\n",
    "response = get_completion(prompt)\n",
    "print(response)"
   ]
  },
  {
   "cell_type": "markdown",
   "id": "3c7185c3",
   "metadata": {},
   "source": [
    "## 5. Persona-based Localization\n",
    "Translate content differently depending on the target audience (a child vs a CEO)."
   ]
  },
  {
   "cell_type": "code",
   "execution_count": 8,
   "id": "db98da26",
   "metadata": {},
   "outputs": [
    {
     "name": "stdout",
     "output_type": "stream",
     "text": [
      "For child: La Tierra da vueltas alrededor del Sol una vez cada 365.25 días. \n",
      "\n",
      "Translation for a 5-year-old child: La Tierra da vueltas alrededor del Sol una vez cada año.\n",
      "\n",
      "For executive:\n",
      " La Tierra orbita alrededor del Sol una vez cada 365.25 días.\n"
     ]
    }
   ],
   "source": [
    "text = \"The Earth orbits the Sun once every 365.25 days.\"\n",
    "\n",
    "prompt = f\"\"\"\n",
    "Translate the following sentence into **Spanish**, using language that would be appropriate for a 5-year-old child.\n",
    "\n",
    "Text: {text}\n",
    "\"\"\"\n",
    "\n",
    "response = get_completion(prompt)\n",
    "print(\"For child:\", response)\n",
    "\n",
    "prompt = f\"\"\"\n",
    "Translate the following sentence into **Spanish**, using language that would be appropriate for a business executive in a climate conference.\n",
    "\n",
    "Text: {text}\n",
    "\"\"\"\n",
    "\n",
    "response = get_completion(prompt)\n",
    "print(\"\\nFor executive:\\n\", response)"
   ]
  }
 ],
 "metadata": {
  "kernelspec": {
   "display_name": "prompt",
   "language": "python",
   "name": "python3"
  },
  "language_info": {
   "codemirror_mode": {
    "name": "ipython",
    "version": 3
   },
   "file_extension": ".py",
   "mimetype": "text/x-python",
   "name": "python",
   "nbconvert_exporter": "python",
   "pygments_lexer": "ipython3",
   "version": "3.13.3"
  }
 },
 "nbformat": 4,
 "nbformat_minor": 5
}
