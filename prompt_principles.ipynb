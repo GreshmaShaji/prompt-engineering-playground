{
 "cells": [
  {
   "cell_type": "markdown",
   "id": "4c5bc01e",
   "metadata": {},
   "source": [
    "# Prompt Engineering Principles (Advanced)\n",
    "This notebook demonstrates key principles of prompt engineering and how to level up simple prompts into more powerful, controllable instructions. We'll explore advanced techniques including formatting, persona assignment, reasoning, and structured outputs."
   ]
  },
  {
   "cell_type": "markdown",
   "id": "2a7e1106",
   "metadata": {},
   "source": [
    "## 1. Setup and Imports\n",
    "Ensure OpenAI is installed and the API is ready to use."
   ]
  },
  {
   "cell_type": "code",
   "execution_count": null,
   "metadata": {},
   "outputs": [],
   "source": [
    "from openai import OpenAI\n",
    "\n",
    "import os "
   ]
  },
  {
   "cell_type": "code",
   "execution_count": 2,
   "metadata": {},
   "outputs": [],
   "source": [
    "client = OpenAI(\n",
    "    api_key = os.getenv(\"OPENAI_API_KEY\"),\n",
    "   \n",
    ")"
   ]
  },
  {
   "cell_type": "code",
   "execution_count": 3,
   "metadata": {},
   "outputs": [],
   "source": [
    "\n",
    "\n",
    "def get_completion(prompt, model=\"gpt-3.5-turbo\"):\n",
    "    messages = [{\"role\": \"user\", \"content\": prompt}]\n",
    "    response = client.chat.completions.create(\n",
    "        model=model,\n",
    "        messages=messages,\n",
    "        temperature=0\n",
    "    )\n",
    "    return response.choices[0].message.content"
   ]
  },
  {
   "cell_type": "markdown",
   "id": "eacfc8c2",
   "metadata": {},
   "source": [
    "## 2. Principle 1: Be Specific and Explicit\n",
    "Instead of vague instructions, provide clear direction, structure, and expectations."
   ]
  },
  {
   "cell_type": "code",
   "execution_count": 4,
   "id": "f7046bec",
   "metadata": {},
   "outputs": [
    {
     "name": "stdout",
     "output_type": "stream",
     "text": [
      "- **\"Galactic Nexus: The Quantum Convergence\"**\n",
      "  A tale of interstellar travelers who must navigate through a mysterious network of wormholes to save the universe from collapsing.\n",
      "\n",
      "- **\"Chrono Shift: The Time Paradox Protocol\"**\n",
      "  In a world where time travel is a reality, a group of rebels must prevent a catastrophic event that threatens to unravel the fabric of time itself.\n",
      "\n",
      "- **\"Neural Odyssey: The Mind's Awakening\"**\n",
      "  Follow the journey of a young woman who discovers she has the ability to manipulate reality with her thoughts, leading her on a quest to unlock the secrets of the universe.\n"
     ]
    }
   ],
   "source": [
    "prompt = f\"\"\"\n",
    "You are a creative author. Generate **three** made-up **sci-fi book titles**, each followed by a one-line summary. \n",
    "Use a futuristic tone. Output should be a markdown list.\n",
    "\"\"\"\n",
    "\n",
    "response = get_completion(prompt)\n",
    "print(response)"
   ]
  },
  {
   "cell_type": "markdown",
   "id": "8995fbbe",
   "metadata": {},
   "source": [
    "## 3. Principle 2: Specify Output Format\n",
    "Tell the model what structure you want the output in—JSON, bullet list, etc."
   ]
  },
  {
   "cell_type": "code",
   "execution_count": 5,
   "id": "e16decdf",
   "metadata": {},
   "outputs": [
    {
     "name": "stdout",
     "output_type": "stream",
     "text": [
      "{\n",
      "  \"slogans\": [\n",
      "    \"Stay connected, stay stylish with our smartwatch.\",\n",
      "    \"Track your fitness goals with our sleek smartwatch design.\",\n",
      "    \"Experience the future on your wrist with our smartwatch technology.\"\n",
      "  ]\n",
      "}\n"
     ]
    }
   ],
   "source": [
    "prompt = f\"\"\"\n",
    "You are a marketing assistant. Generate a **JSON object** with three advertising slogans for a brand-new smartwatch.\n",
    "Each slogan should be under 12 words. Format:\n",
    "{{\n",
    "  \"slogans\": [\n",
    "    \"...\",\n",
    "    \"...\",\n",
    "    \"...\"\n",
    "  ]\n",
    "}}\n",
    "\"\"\"\n",
    "\n",
    "response = get_completion(prompt)\n",
    "print(response)"
   ]
  },
  {
   "cell_type": "markdown",
   "id": "072a009e",
   "metadata": {},
   "source": [
    "## 4. Principle 3: Ask for Step-by-Step Reasoning\n",
    "Let the model show its thinking before jumping to conclusions."
   ]
  },
  {
   "cell_type": "code",
   "execution_count": 6,
   "id": "87715604",
   "metadata": {},
   "outputs": [
    {
     "name": "stdout",
     "output_type": "stream",
     "text": [
      "1. Assess the situation: Gather information on the condition of the crew, the spaceship, and the surrounding environment on Mars.\n",
      "\n",
      "2. Establish communication: Ensure that communication systems are operational and establish contact with the crew members to assess their condition and needs.\n",
      "\n",
      "3. Secure the spaceship: Assess the damage to the spaceship and make necessary repairs to ensure it can still provide shelter and resources for the crew.\n",
      "\n",
      "4. Gather supplies: Take inventory of the supplies available on the spaceship, including food, water, oxygen, and medical supplies. Develop a plan for rationing and conserving these resources.\n",
      "\n",
      "5. Establish a safe perimeter: Set up a perimeter around the spaceship to protect the crew from potential hazards on Mars, such as extreme temperatures, dust storms, and radiation.\n",
      "\n",
      "6. Plan for long-term survival: Develop a plan for sustainable living on Mars, including growing food, generating power, and recycling resources.\n",
      "\n",
      "7. Maintain communication: Establish a communication schedule with Earth to provide updates on the crew's condition and request assistance if needed.\n",
      "\n",
      "8. Monitor crew health: Regularly check the crew members for signs of illness or injury and provide medical care as needed.\n",
      "\n",
      "9. Plan for rescue: Develop a plan for signaling potential rescuers, whether through radio signals, flares, or other means.\n",
      "\n",
      "10. Stay positive and focused: Keep the crew motivated and focused on the task of survival, working together as a team to overcome challenges and ensure their eventual rescue.\n"
     ]
    }
   ],
   "source": [
    "prompt = f\"\"\"\n",
    "A spaceship has crash-landed on Mars. You are a robot tasked with planning a survival strategy for the crew.\n",
    "Think through the steps needed to ensure their survival. List them logically and step-by-step.\n",
    "\"\"\"\n",
    "\n",
    "response = get_completion(prompt)\n",
    "print(response)"
   ]
  },
  {
   "cell_type": "markdown",
   "id": "d503ff2c",
   "metadata": {},
   "source": [
    "## 5. Principle 4: Assign a Persona\n",
    "Telling the model *who* it is helps generate responses with a consistent style or tone."
   ]
  },
  {
   "cell_type": "code",
   "execution_count": 7,
   "id": "dd8a6c1f",
   "metadata": {},
   "outputs": [
    {
     "name": "stdout",
     "output_type": "stream",
     "text": [
      "Well, kid, in this digital age, knowing how to code is like having a key to unlock a whole new world of possibilities. It's the modern-day equivalent of cracking a safe or deciphering a cryptic message. Plus, it's a valuable skill that can open doors to lucrative careers and help you stay one step ahead of the game. So, if you want to stay sharp and stay ahead, learning how to code is the way to go.\n"
     ]
    }
   ],
   "source": [
    "prompt = f\"\"\"\n",
    "You are an old-school detective from a 1940s noir film. Respond to this question in your own style:\n",
    "\n",
    "\"Why should people learn how to code?\"\n",
    "\n",
    "Keep it short and in-character.\n",
    "\"\"\"\n",
    "\n",
    "response = get_completion(prompt)\n",
    "print(response)"
   ]
  }
 ],
 "metadata": {
  "kernelspec": {
   "display_name": "prompt",
   "language": "python",
   "name": "python3"
  },
  "language_info": {
   "codemirror_mode": {
    "name": "ipython",
    "version": 3
   },
   "file_extension": ".py",
   "mimetype": "text/x-python",
   "name": "python",
   "nbconvert_exporter": "python",
   "pygments_lexer": "ipython3",
   "version": "3.13.3"
  }
 },
 "nbformat": 4,
 "nbformat_minor": 2
}
