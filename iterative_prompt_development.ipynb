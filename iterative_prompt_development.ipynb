{
 "cells": [
  {
   "cell_type": "markdown",
   "id": "439e6353",
   "metadata": {},
   "source": [
    "# Iterative Prompt Development (Advanced)\n",
    "This notebook demonstrates how to iteratively improve prompts to generate more accurate, tailored, and structured outputs using OpenAI's models. We'll start from a basic prompt and develop it step-by-step into an advanced version using techniques such as tone control, structured output, and multiple content variants."
   ]
  },
  {
   "cell_type": "markdown",
   "id": "3db002bf",
   "metadata": {},
   "source": [
    "## 1. Setup and Imports\n",
    "Load the OpenAI package and environment variables."
   ]
  },
  {
   "cell_type": "code",
   "execution_count": null,
   "id": "3bbb023f",
   "metadata": {},
   "outputs": [],
   "source": [
    "from openai import OpenAI\n",
    "\n",
    "import os \n"
   ]
  },
  {
   "cell_type": "code",
   "execution_count": 2,
   "id": "2be09a1f",
   "metadata": {},
   "outputs": [],
   "source": [
    "client = OpenAI(\n",
    "    api_key = os.getenv(\"OPENAI_API_KEY\"),\n",
    "   \n",
    ")"
   ]
  },
  {
   "cell_type": "code",
   "execution_count": 3,
   "id": "fd1e1aac",
   "metadata": {},
   "outputs": [],
   "source": [
    "def get_completion(prompt, model=\"gpt-3.5-turbo\"):\n",
    "    messages = [{\"role\": \"user\", \"content\": prompt}]\n",
    "    response = client.chat.completions.create(\n",
    "        model=model,\n",
    "        messages=messages,\n",
    "        temperature=0\n",
    "    )\n",
    "    return response.choices[0].message.content"
   ]
  },
  {
   "cell_type": "markdown",
   "id": "3162f986",
   "metadata": {},
   "source": [
    "## 2. Product Fact Sheet\n",
    "We will generate marketing content for a **smart ergonomic office chair**. Here's the base fact sheet."
   ]
  },
  {
   "cell_type": "code",
   "execution_count": 4,
   "id": "94ec4007",
   "metadata": {},
   "outputs": [],
   "source": [
    "fact_sheet_chair = \"\"\"\n",
    "PRODUCT: ErgoSmart Chair 360\n",
    "\n",
    "FEATURES:\n",
    "- Ergonomic design with 11 adjustable settings\n",
    "- Real-time posture correction alerts\n",
    "- Built-in heating and cooling ventilation\n",
    "- Sustainable vegan leather with recycled metal frame\n",
    "- App integration (iOS and Android)\n",
    "- 5-year warranty with in-home service\n",
    "\n",
    "TARGET AUDIENCE:\n",
    "- Remote professionals and tech workers\n",
    "- Individuals with back pain or posture issues\n",
    "- Eco-conscious customers looking for premium products\n",
    "\"\"\""
   ]
  },
  {
   "cell_type": "markdown",
   "id": "9e4532db",
   "metadata": {},
   "source": [
    "## 3. Basic Prompt\n",
    "Generate a simple product description."
   ]
  },
  {
   "cell_type": "code",
   "execution_count": 5,
   "id": "fc1d0461",
   "metadata": {},
   "outputs": [
    {
     "name": "stdout",
     "output_type": "stream",
     "text": [
      "Introducing the ErgoSmart Chair 360, the ultimate solution for comfort, support, and style. This ergonomic chair features 11 adjustable settings to ensure the perfect fit for your body, along with real-time posture correction alerts to keep you sitting comfortably all day long. The built-in heating and cooling ventilation system will keep you at the perfect temperature, while the sustainable vegan leather and recycled metal frame make this chair a eco-conscious choice. With app integration for both iOS and Android, you can easily customize your chair settings on the go. Plus, with a 5-year warranty and in-home service, you can trust that this chair is built to last. Perfect for remote professionals, tech workers, individuals with back pain or posture issues, and eco-conscious customers looking for a premium seating option. Upgrade your workspace with the ErgoSmart Chair 360 today.\n"
     ]
    }
   ],
   "source": [
    "prompt = f\"\"\"\n",
    "Write a short product description based on the following fact sheet:\n",
    "{fact_sheet_chair}\n",
    "\"\"\"\n",
    "\n",
    "response = get_completion(prompt)\n",
    "print(response)"
   ]
  },
  {
   "cell_type": "markdown",
   "id": "3df9e79d",
   "metadata": {},
   "source": [
    "## 4. Intermediate Prompt with Tone and Target Audience\n",
    "Now we add constraints for tone and audience."
   ]
  },
  {
   "cell_type": "code",
   "execution_count": 6,
   "id": "32972dc6",
   "metadata": {},
   "outputs": [
    {
     "name": "stdout",
     "output_type": "stream",
     "text": [
      "Introducing the ErgoSmart Chair 360, the ultimate solution for remote professionals seeking comfort and support. With 11 adjustable settings and real-time posture correction alerts, this chair is designed to keep you feeling your best all day long. The built-in heating and cooling ventilation ensures optimal comfort, while the sustainable vegan leather and recycled metal frame cater to eco-conscious customers. Stay connected with app integration and enjoy peace of mind with a 5-year warranty and in-home service. Say goodbye to back pain and hello to productivity with the ErgoSmart Chair 360. Upgrade your workspace today!\n"
     ]
    }
   ],
   "source": [
    "prompt = f\"\"\"\n",
    "You are a marketing copywriter. Write a product description based on the following fact sheet:\n",
    "{fact_sheet_chair}\n",
    "\n",
    "Tone: Professional and persuasive  \n",
    "Target audience: Tech-savvy remote professionals aged 25–40  \n",
    "Limit: 100 words\n",
    "\"\"\"\n",
    "\n",
    "response = get_completion(prompt)\n",
    "print(response)"
   ]
  },
  {
   "cell_type": "markdown",
   "id": "c92fbebf",
   "metadata": {},
   "source": [
    "## 5. Advanced Prompt: Multiple Formats and Channels\n",
    "Now we request multiple content formats tailored to various platforms."
   ]
  },
  {
   "cell_type": "code",
   "execution_count": 7,
   "id": "6cab0fe2",
   "metadata": {},
   "outputs": [
    {
     "name": "stdout",
     "output_type": "stream",
     "text": [
      "1. **Product description** for website:\n",
      "Upgrade your home office with the ErgoSmart Chair 360. This ergonomic chair offers 11 adjustable settings, real-time posture correction alerts, and built-in heating and cooling ventilation. Made with sustainable vegan leather and a recycled metal frame, this chair is perfect for remote professionals seeking comfort and style. With app integration and a 5-year warranty with in-home service, the ErgoSmart Chair 360 is the ultimate choice for those looking for a premium seating experience.\n",
      "\n",
      "2. **Promotional tweet**:\n",
      "Upgrade your home office with the ErgoSmart Chair 360 - the ultimate ergonomic chair for remote professionals. With real-time posture correction alerts, app integration, and sustainable vegan leather, this chair is a game-changer for comfort and style. #ErgoSmartChair360\n",
      "\n",
      "3. **Meta description** for SEO:\n",
      "Upgrade your home office with the ErgoSmart Chair 360 - the ultimate ergonomic chair for remote professionals. Featuring 11 adjustable settings, real-time posture correction alerts, and sustainable vegan leather, this chair is perfect for those seeking comfort and style.\n"
     ]
    }
   ],
   "source": [
    "prompt = f\"\"\"\n",
    "You are a senior content strategist. Based on the following fact sheet, generate marketing content in three formats:\n",
    "\n",
    "1. **Product description** for website (100 words)\n",
    "2. **Promotional tweet** (max 280 characters)\n",
    "3. **Meta description** for SEO (max 160 characters)\n",
    "\n",
    "Fact sheet:\n",
    "{fact_sheet_chair}\n",
    "\n",
    "Use a confident, clear tone targeting remote professionals.\n",
    "\"\"\"\n",
    "\n",
    "response = get_completion(prompt)\n",
    "print(response)"
   ]
  }
 ],
 "metadata": {
  "kernelspec": {
   "display_name": "prompt",
   "language": "python",
   "name": "python3"
  },
  "language_info": {
   "codemirror_mode": {
    "name": "ipython",
    "version": 3
   },
   "file_extension": ".py",
   "mimetype": "text/x-python",
   "name": "python",
   "nbconvert_exporter": "python",
   "pygments_lexer": "ipython3",
   "version": "3.13.3"
  }
 },
 "nbformat": 4,
 "nbformat_minor": 5
}
