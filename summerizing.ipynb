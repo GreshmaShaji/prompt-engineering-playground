{
 "cells": [
  {
   "cell_type": "markdown",
   "id": "7d4a49f9",
   "metadata": {},
   "source": [
    "# Advanced Summarization Techniques with LLMs\n",
    "This notebook demonstrates advanced summarization using OpenAI models. We’ll move beyond basic summaries and explore techniques like structured summarization, persona-driven summaries, and multi-step review analysis."
   ]
  },
  {
   "cell_type": "markdown",
   "id": "615cad22",
   "metadata": {},
   "source": [
    "## 1. Setup and Imports"
   ]
  },
  {
   "cell_type": "code",
   "execution_count": null,
   "id": "90c515f7",
   "metadata": {},
   "outputs": [],
   "source": [
    "from openai import OpenAI\n",
    "\n",
    "import os "
   ]
  },
  {
   "cell_type": "code",
   "execution_count": 2,
   "id": "cd9095bb",
   "metadata": {},
   "outputs": [],
   "source": [
    "client = OpenAI(\n",
    "    api_key = os.getenv(\"OPENAI_API_KEY\"),\n",
    "   \n",
    ")"
   ]
  },
  {
   "cell_type": "code",
   "execution_count": 3,
   "id": "bb50e9b3",
   "metadata": {},
   "outputs": [],
   "source": [
    "def get_completion(prompt, model=\"gpt-3.5-turbo\"):\n",
    "    messages = [{\"role\": \"user\", \"content\": prompt}]\n",
    "    response = client.chat.completions.create(\n",
    "        model=model,\n",
    "        messages=messages,\n",
    "        temperature=0\n",
    "    )\n",
    "    return response.choices[0].message.content"
   ]
  },
  {
   "cell_type": "markdown",
   "id": "832485a9",
   "metadata": {},
   "source": [
    "## 2. Sample Product Review\n",
    "This is the review text we'll be summarizing in various formats."
   ]
  },
  {
   "cell_type": "code",
   "execution_count": 4,
   "id": "0c6787a1",
   "metadata": {},
   "outputs": [],
   "source": [
    "prod_review = \"\"\"\n",
    "Got this panda plush toy for my daughter's birthday, and she absolutely loves it! It's incredibly soft, well-stitched, and just the right size for cuddling. \n",
    "Only downside is that it took a few extra days to arrive. Otherwise, great product!\n",
    "\"\"\""
   ]
  },
  {
   "cell_type": "markdown",
   "id": "9fe690b3",
   "metadata": {},
   "source": [
    "## 3. Basic Summary (for comparison)"
   ]
  },
  {
   "cell_type": "code",
   "execution_count": 5,
   "id": "eae32040",
   "metadata": {},
   "outputs": [
    {
     "name": "stdout",
     "output_type": "stream",
     "text": [
      "The reviewer purchased a panda plush toy for their daughter's birthday and she loves it due to its softness, quality stitching, and cuddly size. The only downside mentioned was that it took a few extra days to arrive, but overall, they were happy with the product.\n"
     ]
    }
   ],
   "source": [
    "prompt = f\"\"\"\n",
    "Summarize the following product review in 2-3 sentences.\n",
    "\n",
    "Review:\n",
    "{prod_review}\n",
    "\"\"\"\n",
    "\n",
    "response = get_completion(prompt)\n",
    "print(response)"
   ]
  },
  {
   "cell_type": "markdown",
   "id": "3783d6fc",
   "metadata": {},
   "source": [
    "## 4. Structured Summary in JSON Format\n",
    "Request specific structured fields from the model: sentiment, highlights, issues."
   ]
  },
  {
   "cell_type": "code",
   "execution_count": 6,
   "id": "84411e46",
   "metadata": {},
   "outputs": [
    {
     "name": "stdout",
     "output_type": "stream",
     "text": [
      "{\n",
      "  \"sentiment\": \"positive\",\n",
      "  \"main_highlights\": [\"incredibly soft\", \"well-stitched\", \"right size for cuddling\"],\n",
      "  \"issues\": [\"took a few extra days to arrive\"]\n",
      "}\n"
     ]
    }
   ],
   "source": [
    "prompt = f\"\"\"\n",
    "Summarize the product review below as a JSON object with the following fields:\n",
    "- \"sentiment\": (positive, neutral, or negative)\n",
    "- \"main_highlights\": key positives mentioned\n",
    "- \"issues\": problems or complaints\n",
    "\n",
    "Review:\n",
    "{prod_review}\n",
    "\"\"\"\n",
    "\n",
    "response = get_completion(prompt)\n",
    "print(response)"
   ]
  },
  {
   "cell_type": "markdown",
   "id": "cbee3e92",
   "metadata": {},
   "source": [
    "## 5. Pros and Cons Style Summary\n",
    "Break the summary into clearly labeled pros and cons."
   ]
  },
  {
   "cell_type": "code",
   "execution_count": 7,
   "id": "4c01c670",
   "metadata": {},
   "outputs": [
    {
     "name": "stdout",
     "output_type": "stream",
     "text": [
      "Pros:\n",
      "1. Incredibly soft\n",
      "2. Well-stitched\n",
      "3. Perfect size for cuddling\n",
      "4. Loved by daughter\n",
      "\n",
      "Cons:\n",
      "1. Took a few extra days to arrive\n"
     ]
    }
   ],
   "source": [
    "prompt = f\"\"\"\n",
    "Create a pros and cons list from this product review.\n",
    "\n",
    "Review:\n",
    "{prod_review}\n",
    "\"\"\"\n",
    "\n",
    "response = get_completion(prompt)\n",
    "print(response)"
   ]
  },
  {
   "cell_type": "markdown",
   "id": "cd56ba13",
   "metadata": {},
   "source": [
    "## 6. Summarizing Multiple Reviews\n",
    "We simulate a scenario with multiple reviews and ask the model to synthesize insights."
   ]
  },
  {
   "cell_type": "code",
   "execution_count": 8,
   "id": "10e7feb7",
   "metadata": {},
   "outputs": [
    {
     "name": "stdout",
     "output_type": "stream",
     "text": [
      "Overall Sentiment:\n",
      "Overall, the product received positive reviews with customers expressing satisfaction with their purchase.\n",
      "\n",
      "Common Praise:\n",
      "- Soft and durable plush\n",
      "- Exactly as pictured\n",
      "- Worth the purchase\n",
      "\n",
      "Common Complaints:\n",
      "- Late arrival\n"
     ]
    }
   ],
   "source": [
    "multi_reviews = \"\"\"\n",
    "Review 1: My daughter loves this panda plush. It’s soft and durable.\n",
    "Review 2: Nice product but arrived late. Still worth it.\n",
    "Review 3: Exactly as pictured. Would buy again.\n",
    "\"\"\"\n",
    "\n",
    "prompt = f\"\"\"\n",
    "Summarize the key takeaways from the following 3 product reviews.\n",
    "Organize the result under: Overall Sentiment, Common Praise, and Common Complaints.\n",
    "\n",
    "Reviews:\n",
    "{multi_reviews}\n",
    "\"\"\"\n",
    "\n",
    "response = get_completion(prompt)\n",
    "print(response)"
   ]
  }
 ],
 "metadata": {
  "kernelspec": {
   "display_name": "prompt",
   "language": "python",
   "name": "python3"
  },
  "language_info": {
   "codemirror_mode": {
    "name": "ipython",
    "version": 3
   },
   "file_extension": ".py",
   "mimetype": "text/x-python",
   "name": "python",
   "nbconvert_exporter": "python",
   "pygments_lexer": "ipython3",
   "version": "3.13.3"
  }
 },
 "nbformat": 4,
 "nbformat_minor": 5
}
