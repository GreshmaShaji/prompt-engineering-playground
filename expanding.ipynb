{
 "cells": [
  {
   "cell_type": "markdown",
   "id": "dfbebd94",
   "metadata": {},
   "source": [
    "# Expanding Short Inputs into Full Responses\n",
    "This notebook demonstrates how to expand a brief input (e.g., a sentiment or short phrase) into a full, helpful response using an OpenAI model. This is especially useful in customer service or natural language generation scenarios."
   ]
  },
  {
   "cell_type": "markdown",
   "id": "348d3b5a",
   "metadata": {},
   "source": [
    "## 1. Setup and Imports\n",
    "Import required libraries and initialize the OpenAI client."
   ]
  },
  {
   "cell_type": "code",
   "execution_count": null,
   "id": "e40d249e",
   "metadata": {},
   "outputs": [],
   "source": [
    "from openai import OpenAI\n",
    "\n",
    "import os \n"
   ]
  },
  {
   "cell_type": "markdown",
   "id": "0e6b5060",
   "metadata": {},
   "source": [
    "## 2. Initialize OpenAI API Client\n",
    "The API key is loaded from an environment variable for security."
   ]
  },
  {
   "cell_type": "code",
   "execution_count": 8,
   "id": "bcf4c85c",
   "metadata": {},
   "outputs": [],
   "source": [
    "client = OpenAI(\n",
    "    api_key = os.getenv(\"OPENAI_API_KEY\"),\n",
    "   \n",
    ")"
   ]
  },
  {
   "cell_type": "markdown",
   "id": "7da3f145",
   "metadata": {},
   "source": [
    "## 3. Define Completion Function\n",
    "This function sends a prompt to the OpenAI API and returns the completion. The `temperature` parameter controls randomness."
   ]
  },
  {
   "cell_type": "code",
   "execution_count": 9,
   "id": "ad06b323",
   "metadata": {},
   "outputs": [],
   "source": [
    "def get_completion(prompt, model=\"gpt-3.5-turbo\",temperature=0):\n",
    "    messages = [{\"role\": \"user\", \"content\": prompt}]\n",
    "    response = client.chat.completions.create(\n",
    "        model=model,\n",
    "        messages=messages,\n",
    "        temperature=temperature\n",
    "    )\n",
    "    return response.choices[0].message.content"
   ]
  },
  {
   "cell_type": "markdown",
   "id": "919deea5",
   "metadata": {},
   "source": [
    "## 4. Prompt Setup and Context\n",
    "We set up the prompt to instruct the assistant to act as a customer service agent. It will generate a complete, empathetic response based on a short customer sentiment."
   ]
  },
  {
   "cell_type": "code",
   "execution_count": 10,
   "id": "4bb6509d",
   "metadata": {},
   "outputs": [],
   "source": [
    "# given the sentiment from the lesson on \"inferring\",\n",
    "# and the original customer message, customize the email\n",
    "sentiment = \"negative\"\n",
    "\n",
    "# review for a blender\n",
    "review = f\"\"\"\n",
    "So, they still had the 17 piece system on seasonal \\\n",
    "sale for around $49 in the month of November, about \\\n",
    "half off, but for some reason (call it price gouging) \\\n",
    "around the second week of December the prices all went \\\n",
    "up to about anywhere from between $70-$89 for the same \\\n",
    "system. And the 11 piece system went up around $10 or \\\n",
    "so in price also from the earlier sale price of $29. \\\n",
    "So it looks okay, but if you look at the base, the part \\\n",
    "where the blade locks into place doesn’t look as good \\\n",
    "as in previous editions from a few years ago, but I \\\n",
    "plan to be very gentle with it (example, I crush \\\n",
    "very hard items like beans, ice, rice, etc. in the \\\n",
    "blender first then pulverize them in the serving size \\\n",
    "I want in the blender then switch to the whipping \\\n",
    "blade for a finer flour, and use the cross cutting blade \\\n",
    "first when making smoothies, then use the flat blade \\\n",
    "if I need them finer/less pulpy). Special tip when making \\\n",
    "smoothies, finely cut and freeze the fruits and \\\n",
    "vegetables (if using spinach-lightly stew soften the \\\n",
    "spinach then freeze until ready for use-and if making \\\n",
    "sorbet, use a small to medium sized food processor) \\\n",
    "that you plan to use that way you can avoid adding so \\\n",
    "much ice if at all-when making your smoothie. \\\n",
    "After about a year, the motor was making a funny noise. \\\n",
    "I called customer service but the warranty expired \\\n",
    "already, so I had to buy another one. FYI: The overall \\\n",
    "quality has gone done in these types of products, so \\\n",
    "they are kind of counting on brand recognition and \\\n",
    "consumer loyalty to maintain sales. Got it in about \\\n",
    "two days.\n",
    "\"\"\""
   ]
  },
  {
   "cell_type": "markdown",
   "id": "80b3876f",
   "metadata": {},
   "source": [
    "## 5. Generate a Response from a Given Prompt\n",
    "Now we craft a prompt where the assistant expands on a given sentiment."
   ]
  },
  {
   "cell_type": "code",
   "execution_count": 11,
   "id": "5587c126",
   "metadata": {},
   "outputs": [
    {
     "name": "stdout",
     "output_type": "stream",
     "text": [
      "Dear valued customer,\n",
      "\n",
      "Thank you for taking the time to share your detailed feedback with us. We are sorry to hear about your experience with the pricing changes and the decrease in quality of the product. We apologize for any inconvenience this may have caused you.\n",
      "\n",
      "If you have any further concerns or would like to discuss this matter further, please feel free to reach out to our customer service team for assistance.\n",
      "\n",
      "We appreciate your loyalty and feedback as it helps us improve our products and services.\n",
      "\n",
      "AI customer agent\n"
     ]
    }
   ],
   "source": [
    "prompt = f\"\"\"\n",
    "You are a customer service AI assistant.\n",
    "Your task is to send an email reply to a valued customer.\n",
    "Given the customer email delimited by ```, \\\n",
    "Generate a reply to thank the customer for their review.\n",
    "If the sentiment is positive or neutral, thank them for \\\n",
    "their review.\n",
    "If the sentiment is negative, apologize and suggest that \\\n",
    "they can reach out to customer service. \n",
    "Make sure to use specific details from the review.\n",
    "Write in a concise and professional tone.\n",
    "Sign the email as `AI customer agent`.\n",
    "Customer review: ```{review}```\n",
    "Review sentiment: {sentiment}\n",
    "\"\"\"\n",
    "response = get_completion(prompt)\n",
    "print(response)"
   ]
  },
  {
   "cell_type": "code",
   "execution_count": 12,
   "id": "725e5fe5",
   "metadata": {},
   "outputs": [
    {
     "name": "stdout",
     "output_type": "stream",
     "text": [
      "Dear valued customer,\n",
      "\n",
      "Thank you for taking the time to share your feedback with us. We are sorry to hear about your experience with the pricing changes and the decline in the quality of our product. We apologize for any inconvenience this may have caused you.\n",
      "\n",
      "If you have any further concerns or would like to discuss this matter further, please do not hesitate to reach out to our customer service team. They will be more than happy to assist you with any issues you may have encountered.\n",
      "\n",
      "We appreciate your loyalty as a customer and we strive to improve our products and services based on valuable feedback like yours.\n",
      "\n",
      "Thank you again for sharing your thoughts with us.\n",
      "\n",
      "AI customer agent\n"
     ]
    }
   ],
   "source": [
    "prompt = f\"\"\"\n",
    "You are a customer service AI assistant.\n",
    "Your task is to send an email reply to a valued customer.\n",
    "Given the customer email delimited by ```, \\\n",
    "Generate a reply to thank the customer for their review.\n",
    "If the sentiment is positive or neutral, thank them for \\\n",
    "their review.\n",
    "If the sentiment is negative, apologize and suggest that \\\n",
    "they can reach out to customer service. \n",
    "Make sure to use specific details from the review.\n",
    "Write in a concise and professional tone.\n",
    "Sign the email as `AI customer agent`.\n",
    "Customer review: ```{review}```\n",
    "Review sentiment: {sentiment}\n",
    "\"\"\"\n",
    "response = get_completion(prompt, temperature=0.7)\n",
    "print(response)"
   ]
  },
  {
   "cell_type": "markdown",
   "id": "e666c3cf",
   "metadata": {},
   "source": [
    "## 6. Example: Expanding the Sentiment 'Angry'\n",
    "In this example, we provide the assistant with the sentiment 'angry'. The assistant should respond with a full empathetic customer service message addressing the user's frustration."
   ]
  },
  {
   "cell_type": "code",
   "execution_count": 13,
   "id": "b57e363f",
   "metadata": {},
   "outputs": [
    {
     "name": "stdout",
     "output_type": "stream",
     "text": [
      "I'm sorry to hear that you're feeling angry. I understand that dealing with frustrating situations can be challenging. Please know that I am here to help address any concerns or issues you may have. Your satisfaction is important to us, and we will do our best to resolve the situation promptly. Thank you for bringing this to our attention.\n"
     ]
    }
   ],
   "source": [
    "sentiment = \"angry\"\n",
    "\n",
    "prompt = f\"\"\"\n",
    "You are a customer service AI assistant.\n",
    "Your task is to understand the sentiment of a customer and expand it into a full empathetic response.\n",
    "The customer feels: {sentiment}\n",
    "Respond with a professional, polite, and helpful message.\n",
    "\"\"\"\n",
    "\n",
    "response = get_completion(prompt)\n",
    "print(response)\n"
   ]
  }
 ],
 "metadata": {
  "kernelspec": {
   "display_name": "prompt",
   "language": "python",
   "name": "python3"
  },
  "language_info": {
   "codemirror_mode": {
    "name": "ipython",
    "version": 3
   },
   "file_extension": ".py",
   "mimetype": "text/x-python",
   "name": "python",
   "nbconvert_exporter": "python",
   "pygments_lexer": "ipython3",
   "version": "3.13.3"
  }
 },
 "nbformat": 4,
 "nbformat_minor": 5
}
